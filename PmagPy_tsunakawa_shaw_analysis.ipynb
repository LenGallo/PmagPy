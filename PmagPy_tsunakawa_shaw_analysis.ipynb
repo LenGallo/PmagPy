{
 "cells": [
  {
   "cell_type": "code",
   "execution_count": 1,
   "metadata": {},
   "outputs": [],
   "source": [
    "import matplotlib as mpl\n",
    "import matplotlib.pyplot as plt\n",
    "import multiprocessing as multi\n",
    "import numpy as np\n",
    "import os \n",
    "import pandas as pd\n",
    "import pmagpy\n",
    "import pmagpy.pmag as pmag\n",
    "import pmagpy.ipmag as ipmag\n",
    "import pmagpy.pmagplotlib as pmagplotlib\n",
    "import re\n",
    "import scipy.integrate as integrate\n",
    "import scipy.stats as stats\n",
    "import seaborn as sns\n",
    "#print(sns.__version__)\n",
    "import SPD.lib.leastsq_jacobian as lib_k\n",
    "import sys\n",
    "\n",
    "from datetime import datetime as dt\n",
    "from importlib import reload\n",
    "from multiprocessing import Pool\n",
    "\n",
    "import pmagpy.tsunashawfuncs as ts\n",
    "#import tsunashawfuncs as ts\n",
    "import importlib"
   ]
  },
  {
   "cell_type": "markdown",
   "metadata": {},
   "source": [
    "## How to use"
   ]
  },
  {
   "cell_type": "markdown",
   "metadata": {},
   "source": [
    "1) Make a directory and put this notebook to the directory, then also make following sub-directories: 'data/', 'MagIC/', 'plots/', 'csv/', 'Figures'\n",
    "\n",
    "2) Put a raw measurement data file in the sub-directory of 'data/'. An example data file \"mc120c-SA4.d\" is provided with this notebook.\n",
    "\n",
    "3) Choose and set proper setting/variables at the beginning of this notebook.\n",
    "\n",
    "4) Once run the notebook thoroughly. A file \"steps_template.csv\" is created in the sub-directory of 'csv/'. If you prefer to select a specific coercivity interval for a specific specimen, you can edit the file and rename it to \"steps.csv\" and save it. When you run the notebook again, an analyis will be made according to the \"steps.csv\".\n",
    "\n",
    "5) All analytical results will be created in the sub-directories."
   ]
  },
  {
   "cell_type": "markdown",
   "metadata": {},
   "source": [
    "## Check PmagPy version\n",
    "anaconda3/lib/python3.6/site-packages/pmagpy (to update : pip install -U pmagpy);\n",
    "or\n",
    "cd /home/pmag/PmagPy; git pull"
   ]
  },
  {
   "cell_type": "code",
   "execution_count": 2,
   "metadata": {},
   "outputs": [
    {
     "data": {
      "text/plain": [
       "'pmagpy-4.2.96'"
      ]
     },
     "execution_count": 2,
     "metadata": {},
     "output_type": "execute_result"
    }
   ],
   "source": [
    "pmag.get_version()"
   ]
  },
  {
   "cell_type": "markdown",
   "metadata": {},
   "source": [
    "## Choose the analysis method for Tsunakawa-Shaw API estimation\n",
    "#### ordinary: find the reasonable portion, by criteria of Yamamoto et al. (2003) using r, since 2003\n",
    "#### best_reg: find the best portion, by criteria of Yamamoto et al. (2003) using r, since 2022\n",
    "(1) calculate API statistics for all possible coercivity intervals\n",
    "(2) discard the statistics not satisfying the usual selection criteria (when applicable)\n",
    "(3 omitted) sort the statistics by dAPI (rel. departure from the expected API), and select the best 10 statistics\n",
    "(4) sort the statistics by frac_n, and select the best one\n",
    "Curvature (k) calculation is made by the code for Arai plot by Lisa. This is done for inverterd-X (e.g. -TRM1, -ARM1, ..) and original-Y (e.g. NRM, ARM0, ..). The inverted-X is offset (positive) to zero as a minimum.\n",
    "#### best_krv - find the best portion, output \"best\" files, by criteria of Lloyd et al. (2021) using k'\n",
    "(1) calculate API statistics for all possible coercivity intervals\n",
    "(2) discard the statistics not satisfying the Beta criterion (0.1) and the k' criterion (0.2)\n",
    "(3 omitted) sort the statistics by dAPI (rel. departure from the expected API), and select the best 10 statistics\n",
    "(4) sort the statistics by frac_n, and select the best one"
   ]
  },
  {
   "cell_type": "code",
   "execution_count": 3,
   "metadata": {},
   "outputs": [],
   "source": [
    "#analysis='ordinary'\n",
    "analysis='best_reg'\n",
    "#analysis='best_krv'"
   ]
  },
  {
   "cell_type": "markdown",
   "metadata": {},
   "source": [
    "#### threshold values for criteria: Yamamoto et al. (2003) and Lloyd et al.(2021)"
   ]
  },
  {
   "cell_type": "code",
   "execution_count": 4,
   "metadata": {},
   "outputs": [],
   "source": [
    "minN=4 # minimum number of data points\n",
    "minR=0.995 # minimum correlation coefficient of a slope\n",
    "#minR=0.90 # minimum correlation coefficient of a slope\n",
    "minSlopeT=0.95 # minimum slope of TRM1-TRM2* plot\n",
    "#minSlopeT=0.9 # minimum slope of TRM1-TRM2* plot\n",
    "maxSlopeT=1.05 # minimum slope of TRM1-TRM2* plot\n",
    "#maxSlopeT=1.1 # minimum slope of TRM1-TRM2* plot\n",
    "minFrac=0.15 # minimum frac of NRM-TRM1* and TRM1-TRM2* plots\n",
    "#minFrac=0.30 # minimum frac of NRM-TRM1* and TRM1-TRM2* plots"
   ]
  },
  {
   "cell_type": "code",
   "execution_count": 5,
   "metadata": {},
   "outputs": [],
   "source": [
    "maxKrv=0.20 # consideration for Lloyd et al.(2021)\n",
    "maxBeta=0.10 # consideration for Lloyd et al.(2021)\n",
    "maxFresid=0.10 # consideration for Lloyd et al.(2021)"
   ]
  },
  {
   "cell_type": "markdown",
   "metadata": {},
   "source": [
    "## Set variables"
   ]
  },
  {
   "cell_type": "markdown",
   "metadata": {},
   "source": [
    "### file paths (directories)"
   ]
  },
  {
   "cell_type": "code",
   "execution_count": 6,
   "metadata": {},
   "outputs": [],
   "source": [
    "source_directory='data_files/tsunakawa_shaw/raw_data/'\n",
    "MagIC_directory='data_files/tsunakawa_shaw/MagIC/'\n",
    "Plot_directory='data_files/tsunakawa_shaw/plots/'\n",
    "csv_directory='data_files/tsunakawa_shaw/csv/'\n",
    "dir_path='data_files/tsunakawa_shaw/Figures'"
   ]
  },
  {
   "cell_type": "markdown",
   "metadata": {},
   "source": [
    "### sample description for MagIC"
   ]
  },
  {
   "cell_type": "code",
   "execution_count": 7,
   "metadata": {},
   "outputs": [],
   "source": [
    "lat,lon=0, 0\n",
    "height=''\n",
    "location='na'\n",
    "location_type='outcrop'"
   ]
  },
  {
   "cell_type": "code",
   "execution_count": 8,
   "metadata": {},
   "outputs": [],
   "source": [
    "age=\"0\"\n",
    "age_min,age_max=\"0\",\"0\"\n",
    "age_unit='Ma'"
   ]
  },
  {
   "cell_type": "code",
   "execution_count": 9,
   "metadata": {},
   "outputs": [],
   "source": [
    "classes='intrusive:igneous'\n",
    "geologic_types='Intrusives'\n",
    "lithologies='basalt'"
   ]
  },
  {
   "cell_type": "code",
   "execution_count": 10,
   "metadata": {},
   "outputs": [],
   "source": [
    "sample_methods='FS-FD:SO-SM'"
   ]
  },
  {
   "cell_type": "code",
   "execution_count": 11,
   "metadata": {},
   "outputs": [],
   "source": [
    "citations='na'"
   ]
  },
  {
   "cell_type": "markdown",
   "metadata": {},
   "source": [
    "### experimental condition"
   ]
  },
  {
   "cell_type": "code",
   "execution_count": 12,
   "metadata": {},
   "outputs": [],
   "source": [
    "method_codes_first='LT-NRM-PAR:LP-PI-TRM:IE-SH:LP-LT:DA-ALT-RS:DA-AC-AARM'\n",
    "method_codes_second='LT-TRM-PAR:LP-PI-TRM:IE-SH:LP-LT:DA-ALT-RS:DA-AC-AARM'\n",
    "instrument=\"KCC-DSPIN\""
   ]
  },
  {
   "cell_type": "code",
   "execution_count": 13,
   "metadata": {},
   "outputs": [],
   "source": [
    "ARM_DC_field=50e-6 # DC field values for ARMs, 50uT\n",
    "True_API=70e-6 # expected API values for NRMs (LabTRMs)"
   ]
  },
  {
   "cell_type": "markdown",
   "metadata": {},
   "source": [
    "## Read raw data; convert to MAGIC format"
   ]
  },
  {
   "cell_type": "code",
   "execution_count": 14,
   "metadata": {},
   "outputs": [],
   "source": [
    "files=os.listdir(MagIC_directory)\n",
    "for file in files:\n",
    "    if '.magic' in file:\n",
    "        os.remove(MagIC_directory+file)\n",
    "    elif '.specimens' in file:\n",
    "        os.remove(MagIC_directory+file)\n",
    "    elif '.samples' in file:\n",
    "        os.remove(MagIC_directory+file)\n"
   ]
  },
  {
   "cell_type": "code",
   "execution_count": 15,
   "metadata": {},
   "outputs": [
    {
     "data": {
      "text/plain": [
       "['mc120c-SA4.d']"
      ]
     },
     "execution_count": 15,
     "metadata": {},
     "output_type": "execute_result"
    }
   ],
   "source": [
    "files=os.listdir(source_directory)\n",
    "files"
   ]
  },
  {
   "cell_type": "code",
   "execution_count": 16,
   "metadata": {},
   "outputs": [
    {
     "name": "stdout",
     "output_type": "stream",
     "text": [
      "150  records written to file  data_files/tsunakawa_shaw/MagIC/mc120c-SA4.d.magic\n",
      "1  records written to file  data_files/tsunakawa_shaw/MagIC/mc120c-SA4.d.specimens\n",
      "1  records written to file  data_files/tsunakawa_shaw/MagIC/mc120c-SA4.d.samples\n"
     ]
    }
   ],
   "source": [
    "files=os.listdir(source_directory)\n",
    "for infile in files:\n",
    "    file=source_directory+infile\n",
    "    meas_data,spec_data,samp_data=\\\n",
    "        ts.convert_ts_dspin(file, citations, instrument, ARM_DC_field)\n",
    "    # save measurements file\n",
    "    meas_file=MagIC_directory+infile+'.magic'\n",
    "    meas_out=meas_data.to_dict('records')\n",
    "    pmag.magic_write(meas_file,meas_out,'measurements')\n",
    "    # save specimens file\n",
    "    spec_file=MagIC_directory+infile+'.specimens'\n",
    "    spec_out=spec_data.to_dict('records')\n",
    "    pmag.magic_write(spec_file,spec_out,'specimens')\n",
    "    samp_data['lat']=lat\n",
    "    samp_data['lon']=lon\n",
    "    samp_data['method_codes']=sample_methods\n",
    "    samp_data['result_type']='i'\n",
    "    samp_data['result_quality']='g'\n",
    "    samp_data['citations']=citations\n",
    "    # save sample file\n",
    "    samp_file=MagIC_directory+infile+'.samples'\n",
    "    samp_out=samp_data.to_dict('records')\n",
    "    pmag.magic_write(samp_file,samp_out,'samples')"
   ]
  },
  {
   "cell_type": "code",
   "execution_count": 17,
   "metadata": {},
   "outputs": [
    {
     "name": "stdout",
     "output_type": "stream",
     "text": [
      "-I- Using online data model\n",
      "-I- Getting method codes from earthref.org\n",
      "-I- Importing controlled vocabularies from https://earthref.org\n",
      "adding measurement column to measurements table!\n",
      "-I- overwriting /Users/ltauxe/PmagPy/measurements.txt\n",
      "-I- 150 records written to measurements file\n",
      "-I- overwriting /Users/ltauxe/PmagPy/data_files/tsunakawa_shaw/MagIC/measurements.txt\n",
      "-I- 150 records written to measurements file\n",
      "-I- overwriting /Users/ltauxe/PmagPy/data_files/tsunakawa_shaw/MagIC/specimens.txt\n",
      "-I- 1 records written to specimens file\n",
      "-I- overwriting /Users/ltauxe/PmagPy/data_files/tsunakawa_shaw/MagIC/samples.txt\n",
      "-I- 1 records written to samples file\n"
     ]
    },
    {
     "data": {
      "text/plain": [
       "'/Users/ltauxe/PmagPy/data_files/tsunakawa_shaw/MagIC/samples.txt'"
      ]
     },
     "execution_count": 17,
     "metadata": {},
     "output_type": "execute_result"
    }
   ],
   "source": [
    "magic_files=os.listdir(MagIC_directory)\n",
    "magic_list,specimens_list,sample_list=[],[],[]\n",
    "for f in magic_files: \n",
    "    if '.magic' in f:\n",
    "        magic_list.append(MagIC_directory+f)\n",
    "    elif '.specimens' in f:\n",
    "        specimens_list.append(MagIC_directory+f)\n",
    "    elif '.samples' in f:\n",
    "        sample_list.append(MagIC_directory+f)\n",
    "\n",
    "magic_list.sort()\n",
    "specimens_list.sort()\n",
    "sample_list.sort()\n",
    "\n",
    "ipmag.combine_magic(magic_list,MagIC_directory+'measurements.txt',\\\n",
    "                    data_model=3,magic_table='measurements')\n",
    "ipmag.combine_magic(specimens_list,MagIC_directory+'specimens.txt',\\\n",
    "                    data_model=3,magic_table='specimens')\n",
    "ipmag.combine_magic(sample_list,MagIC_directory+'samples.txt',\\\n",
    "                    data_model=3,magic_table='samples')\n",
    "# make a backup! \n",
    "#copyfile(MagIC_directory+'specimens.txt',MagIC_directory+'specimens_orig.txt')\n",
    "#copyfile(MagIC_directory+'samples.txt',MagIC_directory+'samples_orig.txt')"
   ]
  },
  {
   "cell_type": "markdown",
   "metadata": {},
   "source": [
    "## Create the template files"
   ]
  },
  {
   "cell_type": "markdown",
   "metadata": {},
   "source": [
    "### 1) siteinfo_template.csv: template file for sample data <age, lat, long>"
   ]
  },
  {
   "cell_type": "code",
   "execution_count": 18,
   "metadata": {},
   "outputs": [],
   "source": [
    "sample_df=pd.read_csv(MagIC_directory+'samples.txt',sep='\\t',header=1)\n",
    "sample_df=sample_df.rename(columns={'sample': 'sample_name'})\n",
    "sample_df=sample_df.sort_values('sample_name')\n",
    "\n",
    "sids=sample_df.site.unique()\n",
    "siteinfo_df=pd.DataFrame(sids)\n",
    "siteinfo_df.columns=['site']\n",
    "\n",
    "siteinfo_df['age']=age\n",
    "siteinfo_df['age_high']=age_max\n",
    "siteinfo_df['age_low']=age_min\n",
    "siteinfo_df['age_unit']=age_unit\n",
    "\n",
    "siteinfo_df['lat']=lat\n",
    "siteinfo_df['lon']=lon\n",
    "siteinfo_df['height']=height\n",
    "\n",
    "siteinfo_df['geologic_classes']=classes\n",
    "siteinfo_df['geologic_types']=geologic_types\n",
    "siteinfo_df['lithologies']=lithologies\n",
    "siteinfo_df['location']=location\n",
    "siteinfo_df['location_type']=location_type\n",
    "\n",
    "siteinfo_df['citations']=citations\n",
    "\n",
    "siteinfo_df.to_csv(csv_directory+'siteinfo_template.csv',index=None)"
   ]
  },
  {
   "cell_type": "markdown",
   "metadata": {},
   "source": [
    "### 2) steps_template.csv: template file for step wishes to use for main analyses"
   ]
  },
  {
   "cell_type": "code",
   "execution_count": 19,
   "metadata": {},
   "outputs": [],
   "source": [
    "spec_df=pd.read_csv(MagIC_directory+'specimens.txt',sep='\\t',header=1)\n",
    "spec_df=spec_df.sort_values('specimen')\n",
    "sids=spec_df.specimen.unique()\n",
    "step_df=pd.DataFrame(sids)\n",
    "step_df.columns=['specimen']\n",
    "\n",
    "step_df['zijd_min']=0\n",
    "step_df['zijd_max']=180.\n",
    "step_df['trm1_star_min']=0\n",
    "step_df['trm1_star_max']=180.\n",
    "step_df['trm2_star_min']=0\n",
    "step_df['trm2_star_max']=180.\n",
    "\n",
    "step_df.to_csv(csv_directory+'steps_template.csv',index=None)"
   ]
  },
  {
   "cell_type": "markdown",
   "metadata": {},
   "source": [
    "## Main Analysis\n",
    "If \"steps.csv\" exists, step wishes are read from the file.\n",
    "Otherwise, optimization process is done to find a reasonble step interval to estimate an API, then it is saved to \"steps_optimum.csv\".\n",
    "Final specimen-level results are saved to \"specimen_results.csv\""
   ]
  },
  {
   "cell_type": "markdown",
   "metadata": {},
   "source": [
    "### remove existing plots"
   ]
  },
  {
   "cell_type": "code",
   "execution_count": 20,
   "metadata": {},
   "outputs": [],
   "source": [
    "plot_files=os.listdir(Plot_directory)\n",
    "for file in plot_files:\n",
    "    if '.pdf' in file:\n",
    "        os.remove(Plot_directory+file)"
   ]
  },
  {
   "cell_type": "markdown",
   "metadata": {},
   "source": [
    "### read in measurements data"
   ]
  },
  {
   "cell_type": "code",
   "execution_count": 21,
   "metadata": {},
   "outputs": [],
   "source": [
    "meas=pd.read_csv(MagIC_directory+'measurements.txt',sep='\\t',header=1)\n",
    "#print(meas)\n",
    "#meas=meas.sort_values('specimen')\n",
    "meas['dir_dec_diff']=\"\"\n",
    "meas['dir_inc_diff']=\"\"\n",
    "meas['magn_mass_diff']=\"\"\n",
    "meas['treat_ac_field_mT']=meas['treat_ac_field']*1e3 # for convenience"
   ]
  },
  {
   "cell_type": "markdown",
   "metadata": {},
   "source": [
    "### set specimen ids"
   ]
  },
  {
   "cell_type": "code",
   "execution_count": 22,
   "metadata": {},
   "outputs": [
    {
     "name": "stdout",
     "output_type": "stream",
     "text": [
      "['mc120c-SA4']\n"
     ]
    }
   ],
   "source": [
    "sids=meas.specimen.unique()\n",
    "print(sids)"
   ]
  },
  {
   "cell_type": "markdown",
   "metadata": {},
   "source": [
    "### read in the specimen treatment step wishes from \"steps.csv\"\n",
    "If the file \"steps.csv\" does not exist in the csv directory, set the maximum intervals. If exists, Zijderveld intervals are applied for all the three analyses, while the NRM-TRM1* and TRM1-TRM2* intervals are not applied for the best_reg and best_krv analyses"
   ]
  },
  {
   "cell_type": "code",
   "execution_count": 23,
   "metadata": {},
   "outputs": [
    {
     "name": "stdout",
     "output_type": "stream",
     "text": [
      "step wishes: 'steps.csv' does not exist, set maximum intervals\n"
     ]
    }
   ],
   "source": [
    "step_wishes=True\n",
    "try:\n",
    "    steps_df=pd.read_csv(csv_directory+'steps.csv')\n",
    "except IOError:\n",
    "    step_wishes=False\n",
    "    steps_df=pd.DataFrame(sids)\n",
    "    steps_df.columns=['specimen']\n",
    "    steps_df=steps_df.set_index('specimen')\n",
    "    #meas=meas.set_index(['specimen','description'])\n",
    "    for sid in sids:\n",
    "        meas_n=meas[ (meas.description.str.contains('NRM')==True)\n",
    "                 & (meas.specimen.str.contains(sid)==True)]\n",
    "        meas_t1=meas[ (meas.description.str.contains('TRM1')==True)\n",
    "                 & (meas.specimen.str.contains(sid)==True)]\n",
    "        meas_t2=meas[ (meas.description.str.contains('TRM2')==True)\n",
    "                 & (meas.specimen.str.contains(sid)==True)]\n",
    "        if(len(meas_n)>0):\n",
    "            meas_n=meas_n.set_index(['specimen','description'])\n",
    "            steps_df.loc[sid,'zijd_min']=meas_n.loc[sid,'NRM'].treat_ac_field_mT.min()\n",
    "            steps_df.loc[sid,'zijd_max']=meas_n.loc[sid,'NRM'].treat_ac_field_mT.max()\n",
    "        if(len(meas_t1)>0):\n",
    "            meas_t1=meas_t1.set_index(['specimen','description'])\n",
    "            steps_df.loc[sid,'trm1_star_min']=meas_t1.loc[sid,'TRM1'].treat_ac_field_mT.min()\n",
    "            steps_df.loc[sid,'trm1_star_max']=meas_t1.loc[sid,'TRM1'].treat_ac_field_mT.max()\n",
    "        if(len(meas_t2)>0):\n",
    "            meas_t2=meas_t2.set_index(['specimen','description'])\n",
    "            steps_df.loc[sid,'trm2_star_min']=meas_t2.loc[sid,'TRM2'].treat_ac_field_mT.min()\n",
    "            steps_df.loc[sid,'trm2_star_max']=meas_t2.loc[sid,'TRM2'].treat_ac_field_mT.max()\n",
    "    steps_df=steps_df.reset_index()\n",
    "    meas=meas.reset_index()\n",
    "if (step_wishes == True): print(\"step wishes: successfully read from 'steps.csv'\")\n",
    "if (step_wishes == False): print(\"step wishes: 'steps.csv' does not exist, set maximum intervals\")\n",
    "#print(steps_df)"
   ]
  },
  {
   "cell_type": "markdown",
   "metadata": {},
   "source": [
    "### main loop"
   ]
  },
  {
   "cell_type": "code",
   "execution_count": 24,
   "metadata": {},
   "outputs": [
    {
     "data": {
      "text/plain": [
       "<module 'pmagpy.tsunashawfuncs' from '/Users/ltauxe/PmagPy/pmagpy/tsunashawfuncs.py'>"
      ]
     },
     "execution_count": 24,
     "metadata": {},
     "output_type": "execute_result"
    }
   ],
   "source": [
    "importlib.reload(ts)"
   ]
  },
  {
   "cell_type": "code",
   "execution_count": 25,
   "metadata": {},
   "outputs": [],
   "source": [
    "## remanence type\n",
    "ntrm_types=['NRM','TRM1','TRM2']\n",
    "arm_types=['ARM0','ARM1','ARM2']\n",
    "\n",
    "## prepare dataframe for this specimen for private data output\n",
    "spec_prv_df=pd.DataFrame(sids)\n",
    "spec_prv_df.columns=['specimen']\n",
    "spec_prv_df=spec_prv_df.set_index('specimen')\n",
    "\n",
    "## prepare for main loop\n",
    "cnt=1 # plot counter\n",
    "sidPars=[] # list of dictionaries for specimen intensity statistics\n",
    "stepRecs=[] # list of step wishes after optimization "
   ]
  },
  {
   "cell_type": "code",
   "execution_count": 47,
   "metadata": {},
   "outputs": [
    {
     "name": "stdout",
     "output_type": "stream",
     "text": [
      "--------------\n",
      "[working on:  mc120c-SA4 ]\n",
      "NRM:  24  data, TRM1: 24  data, TRM2: 24  data\n",
      "ARM0:  24  data, ARM1: 24  data, ARM2: 24  data\n"
     ]
    },
    {
     "ename": "ValueError",
     "evalue": "cannot insert level_0, already exists",
     "output_type": "error",
     "traceback": [
      "\u001b[0;31m---------------------------------------------------------------------------\u001b[0m",
      "\u001b[0;31mValueError\u001b[0m                                Traceback (most recent call last)",
      "\u001b[0;32m/var/folders/hb/m9qm0bdd13q_t59j9424w1n80000gn/T/ipykernel_12268/4099599251.py\u001b[0m in \u001b[0;36m<module>\u001b[0;34m\u001b[0m\n\u001b[1;32m     57\u001b[0m         \u001b[0;34m[\u001b[0m\u001b[0mx1\u001b[0m\u001b[0;34m,\u001b[0m\u001b[0mx2\u001b[0m\u001b[0;34m,\u001b[0m\u001b[0mx3\u001b[0m\u001b[0;34m,\u001b[0m\u001b[0mx4\u001b[0m\u001b[0;34m,\u001b[0m\u001b[0mx5\u001b[0m\u001b[0;34m]\u001b[0m\u001b[0;34m=\u001b[0m\u001b[0;34m[\u001b[0m\u001b[0;36m0\u001b[0m\u001b[0;34m,\u001b[0m\u001b[0;36m0\u001b[0m\u001b[0;34m,\u001b[0m\u001b[0;36m0\u001b[0m\u001b[0;34m,\u001b[0m\u001b[0;36m0\u001b[0m\u001b[0;34m,\u001b[0m\u001b[0;36m0\u001b[0m\u001b[0;34m]\u001b[0m\u001b[0;34m\u001b[0m\u001b[0;34m\u001b[0m\u001b[0m\n\u001b[1;32m     58\u001b[0m         \u001b[0;32mif\u001b[0m \u001b[0;34m(\u001b[0m\u001b[0mt\u001b[0m\u001b[0;34m==\u001b[0m\u001b[0;34m'NRM'\u001b[0m\u001b[0;34m)\u001b[0m  \u001b[0;34m&\u001b[0m \u001b[0;34m(\u001b[0m\u001b[0mlen\u001b[0m\u001b[0;34m(\u001b[0m\u001b[0mafnrm\u001b[0m\u001b[0;34m)\u001b[0m\u001b[0;34m>\u001b[0m\u001b[0;36m0\u001b[0m\u001b[0;34m)\u001b[0m\u001b[0;34m:\u001b[0m\u001b[0;34m\u001b[0m\u001b[0;34m\u001b[0m\u001b[0m\n\u001b[0;32m---> 59\u001b[0;31m             \u001b[0mx1\u001b[0m\u001b[0;34m,\u001b[0m\u001b[0mx2\u001b[0m\u001b[0;34m,\u001b[0m\u001b[0mx3\u001b[0m\u001b[0;34m,\u001b[0m\u001b[0mx4\u001b[0m\u001b[0;34m,\u001b[0m\u001b[0mx5\u001b[0m\u001b[0;34m=\u001b[0m\u001b[0mts\u001b[0m\u001b[0;34m.\u001b[0m\u001b[0mplot_af_xrm\u001b[0m\u001b[0;34m(\u001b[0m\u001b[0msid\u001b[0m\u001b[0;34m,\u001b[0m\u001b[0msid_data\u001b[0m\u001b[0;34m,\u001b[0m\u001b[0max1\u001b[0m\u001b[0;34m,\u001b[0m\u001b[0mafnrm\u001b[0m\u001b[0;34m,\u001b[0m\u001b[0mt\u001b[0m\u001b[0;34m)\u001b[0m\u001b[0;34m\u001b[0m\u001b[0;34m\u001b[0m\u001b[0m\n\u001b[0m\u001b[1;32m     60\u001b[0m         \u001b[0;32mif\u001b[0m \u001b[0;34m(\u001b[0m\u001b[0mt\u001b[0m\u001b[0;34m==\u001b[0m\u001b[0;34m'TRM1'\u001b[0m\u001b[0;34m)\u001b[0m \u001b[0;34m&\u001b[0m \u001b[0;34m(\u001b[0m\u001b[0mlen\u001b[0m\u001b[0;34m(\u001b[0m\u001b[0maftrm1\u001b[0m\u001b[0;34m)\u001b[0m\u001b[0;34m>\u001b[0m\u001b[0;36m0\u001b[0m\u001b[0;34m)\u001b[0m\u001b[0;34m:\u001b[0m\u001b[0;34m\u001b[0m\u001b[0;34m\u001b[0m\u001b[0m\n\u001b[1;32m     61\u001b[0m             \u001b[0mx1\u001b[0m\u001b[0;34m,\u001b[0m\u001b[0mx2\u001b[0m\u001b[0;34m,\u001b[0m\u001b[0mx3\u001b[0m\u001b[0;34m,\u001b[0m\u001b[0mx4\u001b[0m\u001b[0;34m,\u001b[0m\u001b[0mx5\u001b[0m\u001b[0;34m=\u001b[0m\u001b[0mts\u001b[0m\u001b[0;34m.\u001b[0m\u001b[0mplot_af_xrm\u001b[0m\u001b[0;34m(\u001b[0m\u001b[0msid\u001b[0m\u001b[0;34m,\u001b[0m\u001b[0msid_data\u001b[0m\u001b[0;34m,\u001b[0m\u001b[0max3\u001b[0m\u001b[0;34m,\u001b[0m\u001b[0maftrm1\u001b[0m\u001b[0;34m,\u001b[0m\u001b[0mt\u001b[0m\u001b[0;34m)\u001b[0m\u001b[0;34m\u001b[0m\u001b[0;34m\u001b[0m\u001b[0m\n",
      "\u001b[0;32m~/PmagPy/pmagpy/tsunashawfuncs.py\u001b[0m in \u001b[0;36mplot_af_xrm\u001b[0;34m(sid, sdf, ax, df, rem_type)\u001b[0m\n\u001b[1;32m    660\u001b[0m \u001b[0;32mdef\u001b[0m \u001b[0mplot_af_xrm\u001b[0m\u001b[0;34m(\u001b[0m\u001b[0msid\u001b[0m\u001b[0;34m,\u001b[0m\u001b[0msdf\u001b[0m\u001b[0;34m,\u001b[0m\u001b[0max\u001b[0m\u001b[0;34m,\u001b[0m\u001b[0mdf\u001b[0m\u001b[0;34m,\u001b[0m\u001b[0mrem_type\u001b[0m\u001b[0;34m)\u001b[0m\u001b[0;34m:\u001b[0m\u001b[0;34m\u001b[0m\u001b[0;34m\u001b[0m\u001b[0m\n\u001b[1;32m    661\u001b[0m     \u001b[0;31m#\u001b[0m\u001b[0;34m\u001b[0m\u001b[0;34m\u001b[0m\u001b[0m\n\u001b[0;32m--> 662\u001b[0;31m     \u001b[0mdf\u001b[0m\u001b[0;34m=\u001b[0m\u001b[0mdf\u001b[0m\u001b[0;34m.\u001b[0m\u001b[0mreset_index\u001b[0m\u001b[0;34m(\u001b[0m\u001b[0;34m)\u001b[0m\u001b[0;34m\u001b[0m\u001b[0;34m\u001b[0m\u001b[0m\n\u001b[0m\u001b[1;32m    663\u001b[0m     \u001b[0;31m#\u001b[0m\u001b[0;34m\u001b[0m\u001b[0;34m\u001b[0m\u001b[0m\n\u001b[1;32m    664\u001b[0m     \u001b[0;32mif\u001b[0m \u001b[0;34m'ARM'\u001b[0m \u001b[0;32min\u001b[0m \u001b[0mrem_type\u001b[0m\u001b[0;34m:\u001b[0m\u001b[0;34m\u001b[0m\u001b[0;34m\u001b[0m\u001b[0m\n",
      "\u001b[0;32m~/opt/anaconda3/envs/pmagpy_env/lib/python3.9/site-packages/pandas/core/frame.py\u001b[0m in \u001b[0;36mreset_index\u001b[0;34m(self, level, drop, inplace, col_level, col_fill)\u001b[0m\n\u001b[1;32m   5014\u001b[0m                 \u001b[0;31m# to ndarray and maybe infer different dtype\u001b[0m\u001b[0;34m\u001b[0m\u001b[0;34m\u001b[0m\u001b[0m\n\u001b[1;32m   5015\u001b[0m                 \u001b[0mlevel_values\u001b[0m \u001b[0;34m=\u001b[0m \u001b[0mmaybe_casted_values\u001b[0m\u001b[0;34m(\u001b[0m\u001b[0mlev\u001b[0m\u001b[0;34m,\u001b[0m \u001b[0mlab\u001b[0m\u001b[0;34m)\u001b[0m\u001b[0;34m\u001b[0m\u001b[0;34m\u001b[0m\u001b[0m\n\u001b[0;32m-> 5016\u001b[0;31m                 \u001b[0mnew_obj\u001b[0m\u001b[0;34m.\u001b[0m\u001b[0minsert\u001b[0m\u001b[0;34m(\u001b[0m\u001b[0;36m0\u001b[0m\u001b[0;34m,\u001b[0m \u001b[0mname\u001b[0m\u001b[0;34m,\u001b[0m \u001b[0mlevel_values\u001b[0m\u001b[0;34m)\u001b[0m\u001b[0;34m\u001b[0m\u001b[0;34m\u001b[0m\u001b[0m\n\u001b[0m\u001b[1;32m   5017\u001b[0m \u001b[0;34m\u001b[0m\u001b[0m\n\u001b[1;32m   5018\u001b[0m         \u001b[0mnew_obj\u001b[0m\u001b[0;34m.\u001b[0m\u001b[0mindex\u001b[0m \u001b[0;34m=\u001b[0m \u001b[0mnew_index\u001b[0m\u001b[0;34m\u001b[0m\u001b[0;34m\u001b[0m\u001b[0m\n",
      "\u001b[0;32m~/opt/anaconda3/envs/pmagpy_env/lib/python3.9/site-packages/pandas/core/frame.py\u001b[0m in \u001b[0;36minsert\u001b[0;34m(self, loc, column, value, allow_duplicates)\u001b[0m\n\u001b[1;32m   3761\u001b[0m         \u001b[0mself\u001b[0m\u001b[0;34m.\u001b[0m\u001b[0m_ensure_valid_index\u001b[0m\u001b[0;34m(\u001b[0m\u001b[0mvalue\u001b[0m\u001b[0;34m)\u001b[0m\u001b[0;34m\u001b[0m\u001b[0;34m\u001b[0m\u001b[0m\n\u001b[1;32m   3762\u001b[0m         \u001b[0mvalue\u001b[0m \u001b[0;34m=\u001b[0m \u001b[0mself\u001b[0m\u001b[0;34m.\u001b[0m\u001b[0m_sanitize_column\u001b[0m\u001b[0;34m(\u001b[0m\u001b[0mcolumn\u001b[0m\u001b[0;34m,\u001b[0m \u001b[0mvalue\u001b[0m\u001b[0;34m,\u001b[0m \u001b[0mbroadcast\u001b[0m\u001b[0;34m=\u001b[0m\u001b[0;32mFalse\u001b[0m\u001b[0;34m)\u001b[0m\u001b[0;34m\u001b[0m\u001b[0;34m\u001b[0m\u001b[0m\n\u001b[0;32m-> 3763\u001b[0;31m         \u001b[0mself\u001b[0m\u001b[0;34m.\u001b[0m\u001b[0m_mgr\u001b[0m\u001b[0;34m.\u001b[0m\u001b[0minsert\u001b[0m\u001b[0;34m(\u001b[0m\u001b[0mloc\u001b[0m\u001b[0;34m,\u001b[0m \u001b[0mcolumn\u001b[0m\u001b[0;34m,\u001b[0m \u001b[0mvalue\u001b[0m\u001b[0;34m,\u001b[0m \u001b[0mallow_duplicates\u001b[0m\u001b[0;34m=\u001b[0m\u001b[0mallow_duplicates\u001b[0m\u001b[0;34m)\u001b[0m\u001b[0;34m\u001b[0m\u001b[0;34m\u001b[0m\u001b[0m\n\u001b[0m\u001b[1;32m   3764\u001b[0m \u001b[0;34m\u001b[0m\u001b[0m\n\u001b[1;32m   3765\u001b[0m     \u001b[0;32mdef\u001b[0m \u001b[0massign\u001b[0m\u001b[0;34m(\u001b[0m\u001b[0mself\u001b[0m\u001b[0;34m,\u001b[0m \u001b[0;34m**\u001b[0m\u001b[0mkwargs\u001b[0m\u001b[0;34m)\u001b[0m \u001b[0;34m->\u001b[0m \u001b[0mDataFrame\u001b[0m\u001b[0;34m:\u001b[0m\u001b[0;34m\u001b[0m\u001b[0;34m\u001b[0m\u001b[0m\n",
      "\u001b[0;32m~/opt/anaconda3/envs/pmagpy_env/lib/python3.9/site-packages/pandas/core/internals/managers.py\u001b[0m in \u001b[0;36minsert\u001b[0;34m(self, loc, item, value, allow_duplicates)\u001b[0m\n\u001b[1;32m   1189\u001b[0m         \u001b[0;32mif\u001b[0m \u001b[0;32mnot\u001b[0m \u001b[0mallow_duplicates\u001b[0m \u001b[0;32mand\u001b[0m \u001b[0mitem\u001b[0m \u001b[0;32min\u001b[0m \u001b[0mself\u001b[0m\u001b[0;34m.\u001b[0m\u001b[0mitems\u001b[0m\u001b[0;34m:\u001b[0m\u001b[0;34m\u001b[0m\u001b[0;34m\u001b[0m\u001b[0m\n\u001b[1;32m   1190\u001b[0m             \u001b[0;31m# Should this be a different kind of error??\u001b[0m\u001b[0;34m\u001b[0m\u001b[0;34m\u001b[0m\u001b[0m\n\u001b[0;32m-> 1191\u001b[0;31m             \u001b[0;32mraise\u001b[0m \u001b[0mValueError\u001b[0m\u001b[0;34m(\u001b[0m\u001b[0;34mf\"cannot insert {item}, already exists\"\u001b[0m\u001b[0;34m)\u001b[0m\u001b[0;34m\u001b[0m\u001b[0;34m\u001b[0m\u001b[0m\n\u001b[0m\u001b[1;32m   1192\u001b[0m \u001b[0;34m\u001b[0m\u001b[0m\n\u001b[1;32m   1193\u001b[0m         \u001b[0;32mif\u001b[0m \u001b[0;32mnot\u001b[0m \u001b[0misinstance\u001b[0m\u001b[0;34m(\u001b[0m\u001b[0mloc\u001b[0m\u001b[0;34m,\u001b[0m \u001b[0mint\u001b[0m\u001b[0;34m)\u001b[0m\u001b[0;34m:\u001b[0m\u001b[0;34m\u001b[0m\u001b[0;34m\u001b[0m\u001b[0m\n",
      "\u001b[0;31mValueError\u001b[0m: cannot insert level_0, already exists"
     ]
    },
    {
     "data": {
      "image/png": "[encoded data removed]",
      "text/plain": [
       "<Figure size 1080x1584 with 6 Axes>"
      ]
     },
     "metadata": {
      "needs_background": "light"
     },
     "output_type": "display_data"
    }
   ],
   "source": [
    "reload (ts)\n",
    "## step through the specimens\n",
    "## for sid in ['SW01-01A-1_sun','SW01-02A-1_sun', 'SW01-03A-1_sun']:\n",
    "for sid in sids:\n",
    "    print ('--------------')\n",
    "    print ('[working on: ', sid, ']')\n",
    "\n",
    "    ## make a dictionary for this specimen's statistics\n",
    "    sidpars_nrm={}\n",
    "    sidpars_nrm['specimen']=sid\n",
    "    sidpars_nrm['int_corr']='c'\n",
    "    sidpars_nrm['citations']=citations\n",
    "    sidpars_nrm['method_codes']=method_codes_first\n",
    "    #\n",
    "    sidpars_trm={}\n",
    "    sidpars_trm['specimen']=sid\n",
    "    sidpars_trm['int_corr']='c'\n",
    "    sidpars_trm['citations']=citations\n",
    "    sidpars_trm['method_codes']=method_codes_second\n",
    "    #\n",
    "    steprec={}\n",
    "    steprec['specimen']=sid\n",
    "    \n",
    "    ## select the measurement data for this specimen\n",
    "    sid_data=meas[meas.specimen==sid]\n",
    "\n",
    "    ## substitute lab_field\n",
    "    aftrm10=sid_data[sid_data.description.str.contains('TRM10')]\n",
    "    if (len(aftrm10)>0): lab_field=aftrm10.treat_dc_field.tolist()[0]\n",
    "\n",
    "    ## preparation of data\n",
    "    sid_data,sid_df,afnrm,aftrm1,aftrm2,afarm0,afarm1,afarm2 \\\n",
    "        =ts.prep_sid_df(ntrm_types+arm_types,sid_data)\n",
    "\n",
    "    ## data output: AF vs XRM intensity\n",
    "    sid_df.to_csv(csv_directory+sid+'_af_vs_xrms.csv',index=True)\n",
    "\n",
    "    ## get the treatment steps for this specimen\n",
    "    #print(steps_df)\n",
    "    sid_steps=steps_df[steps_df.specimen==sid].head(1)\n",
    "    #print(sid_steps)\n",
    "    if (len(afnrm)>0):\n",
    "        zijd_min,zijd_max=sid_steps.zijd_min.values[0],sid_steps.zijd_max.values[0]\n",
    "    if (len(aftrm1)>0) & (len(afarm1)>0):\n",
    "        trm1_star_min,trm1_star_max=sid_steps.trm1_star_min.values[0],sid_steps.trm1_star_max.values[0]\n",
    "    if (len(aftrm2)>0) & (len(afarm2)>0):\n",
    "        trm2_star_min,trm2_star_max=sid_steps.trm2_star_min.values[0],sid_steps.trm2_star_max.values[0]\n",
    "    \n",
    "    ## Fig1: AF vs XRM intensity\n",
    "    ##       with output of relevant data \n",
    "    fig1=plt.figure(cnt,figsize=(15,22))\n",
    "    fig1.clf()\n",
    "    ax1,ax2,ax3,ax4,ax5,ax6 =\\\n",
    "        fig1.add_subplot(321),fig1.add_subplot(322),fig1.add_subplot(323),\\\n",
    "        fig1.add_subplot(324),fig1.add_subplot(325),fig1.add_subplot(326)\n",
    "    for t in (ntrm_types+arm_types):\n",
    "        [x1,x2,x3,x4,x5]=[0,0,0,0,0]\n",
    "        if (t=='NRM')  & (len(afnrm)>0):\n",
    "            x1,x2,x3,x4,x5=ts.plot_af_xrm(sid,sid_data,ax1,afnrm,t)\n",
    "        if (t=='TRM1') & (len(aftrm1)>0):\n",
    "            x1,x2,x3,x4,x5=ts.plot_af_xrm(sid,sid_data,ax3,aftrm1,t)\n",
    "        if (t=='TRM2') & (len(aftrm2)>0):\n",
    "            x1,x2,x3,x4,x5=ts.plot_af_xrm(sid,sid_data,ax5,aftrm2,t)\n",
    "        if (t=='ARM0') & (len(afarm0)>0):\n",
    "            x1,x2,x3,x4,x5=ts.plot_af_xrm(sid,sid_data,ax2,afarm0,t)\n",
    "            rem_ltd_perc=100.* (x4 - 1.0)/x4\n",
    "            spec_prv_df.loc[sid,'ltd%_ARM0']='%7.1f'%(rem_ltd_perc)\n",
    "            sidpars_nrm['rem_ltd_perc']='%7.1f'%(rem_ltd_perc)\n",
    "        if (t=='ARM1') & (len(afarm1)>0):\n",
    "            x1,x2,x3,x4,x5=ts.plot_af_xrm(sid,sid_data,ax4,afarm1,t)\n",
    "            rem_ltd_perc_1=100.* (x4 - 1.0)/x4\n",
    "            spec_prv_df.loc[sid,'ltd%_ARM1']='%7.1f'%(rem_ltd_perc_1)\n",
    "        if (t=='ARM2') & (len(afarm2)>0):\n",
    "            x1,x2,x3,x4,x5=ts.plot_af_xrm(sid,sid_data,ax6,afarm2,t)\n",
    "            rem_ltd_perc_2=100.* (x4 - 1.0)/x4\n",
    "            spec_prv_df.loc[sid,'ltd%_ARM2']='%7.1f'%(rem_ltd_perc_2)\n",
    "        if (abs(x1+x2+x3+x4+x5)>0):\n",
    "            afdmax=x1\n",
    "            s1='MDF_'+str(t)\n",
    "            s2=str(t)+'_0mT(uAm2/kg)'\n",
    "            s3=str(t)+'0/'+str(t)+'_0mT'\n",
    "            s4=str(t)+'_'+str(int(afdmax))+'mT/'+str(t)+'_0mT'\n",
    "            #print(s1, s2, s3, s4)\n",
    "            spec_prv_df.loc[sid,s1],spec_prv_df.loc[sid,s2],\\\n",
    "            spec_prv_df.loc[sid,s3],spec_prv_df.loc[sid,s4]\\\n",
    "                =float('{:.4e}'.format(x2)),float('{:.4e}'.format(x3)),\\\n",
    "                    float('{:.4e}'.format(x4)),float('{:.4e}'.format(x5))\n",
    "            #print(spec_prv_df)\n",
    "    fig1.savefig(Plot_directory+sid+'_afdemag.pdf')\n",
    "    cnt=cnt+1\n",
    "    \n",
    "    ## opt interval search (min MAD, DANG) for Zijderveld\n",
    "    if (step_wishes == False) & (len(afnrm)>0):\n",
    "        zijd_max=afnrm['treat_ac_field_mT'].tolist()[len(afnrm)-1]\n",
    "        zijd_min, zijd_max = ts.opt_interval_zij(afnrm, minN)\n",
    "        steprec['zijd_min'],steprec['zijd_max'] = zijd_min, zijd_max\n",
    "\n",
    "    ## Fig2: Zijderveld plot for the NRM demag directions\n",
    "    ##       with output of relevant data \n",
    "    fig2=plt.figure(cnt,figsize=(10,5))\n",
    "    fig2.clf()\n",
    "    ax1, ax2 =fig2.add_subplot(121), fig2.add_subplot(122)\n",
    "    if (len(afnrm)>0):\n",
    "        x1,x2,x3,x4=ts.plot_zijd(sid, sid_data, ax1, ax2, afnrm, zijd_min, zijd_max)\n",
    "        sidpars_nrm['dir_dec']='%7.1f'%(x1)\n",
    "        sidpars_nrm['dir_inc']='%7.1f'%(x2)\n",
    "        sidpars_nrm['dir_mad_free']='%7.1f'%(x3)\n",
    "        spec_prv_df.loc[sid,'from_zijd']='%7.1f'%(zijd_min)\n",
    "        spec_prv_df.loc[sid,'to_zijd']='%7.1f'%(zijd_max)\n",
    "        spec_prv_df.loc[sid,'PCA_Dec']='%7.1f'%(x1)\n",
    "        spec_prv_df.loc[sid,'PCA_Inc']='%7.1f'%(x2)\n",
    "        spec_prv_df.loc[sid,'PCA_MAD']='%7.1f'%(x3)\n",
    "        spec_prv_df.loc[sid,'PCA_N']='%2d'%(x4)\n",
    "    fig2.savefig(Plot_directory+sid+'_zijd.pdf')  \n",
    "    cnt=cnt+1\n",
    "\n",
    "    ## Fig3: basic plots (NRM-ARM0, TRM1-ARM1, TRM2-ARM2)\n",
    "    ##       with output of relevant data \n",
    "    fig3=plt.figure(cnt,figsize=(10,10))\n",
    "    fig3.clf()\n",
    "    ax1,ax2,ax3 = fig3.add_subplot(221),fig3.add_subplot(222),fig3.add_subplot(223)\n",
    "    for (t1,t2) in zip(ntrm_types,arm_types):\n",
    "        [x1,x2,x3,x4,x5]=[0,0,0,0,0]\n",
    "        if (t1=='NRM') & (t2=='ARM0') & (len(afnrm)>0) & (len(afarm0)>0):\n",
    "            x1,x2,x3,x4,x5=\\\n",
    "                ts.plot_ntrm_arm(sid,ax1,sid_df,afnrm,zijd_min,zijd_max,'arm0','nrm')\n",
    "        if (t1=='TRM1') & (t2=='ARM1') & (len(aftrm1)>0) & (len(afarm1)>0):\n",
    "            x1,x2,x3,x4,x5=\\\n",
    "                ts.plot_ntrm_arm(sid,ax2,sid_df,aftrm1,zijd_min,zijd_max,'arm1','trm1')\n",
    "        if (t1=='TRM2') & (t2=='ARM2') & (len(aftrm2)>0) & (len(afarm2)>0):\n",
    "            x1,x2,x3,x4,x5=\\\n",
    "                ts.plot_ntrm_arm(sid,ax3,sid_df,aftrm2,zijd_min,zijd_max,'arm2','trm2')\n",
    "        if (abs(x1+x2+x3+x4+x5)>0):\n",
    "            ss=str(t1)+'-'+str(t2)\n",
    "            [s1,s2,s3,s4,s5]=['slope_'+ss, 'r_'+ss, 'N_'+ss, 'k_'+ss, 'k\\'_'+ss, ]\n",
    "            spec_prv_df.loc[sid,s1]='%7.3f'%(x1)\n",
    "            spec_prv_df.loc[sid,s2]='%7.3f'%(x2)\n",
    "            spec_prv_df.loc[sid,s3]='%2d'%(x3)\n",
    "            spec_prv_df.loc[sid,s4]='%7.3f'%(x4)\n",
    "            spec_prv_df.loc[sid,s5]='%7.3f'%(x5)\n",
    "    fig3.savefig(Plot_directory+sid+'_ratios1.pdf')\n",
    "    cnt=cnt+1\n",
    "    \n",
    "    ## set the interval for NRM-TRM1* and TRM1-TRM2*\n",
    "    if (len(afnrm)>0) & (len(aftrm1)>0) & (len(afarm0)>0) & (len(afarm1)>0):\n",
    "        if (step_wishes == False) & (analysis == 'ordinary'):\n",
    "            trm1_star_min, trm1_star_max =\\\n",
    "                ts.opt_interval_first_heating(zijd_min,sid_df,afnrm,minN,minFrac,minR)\n",
    "        if (analysis == 'best_reg') or (analysis == 'best_krv'):\n",
    "            combinedRegs1=ts.API_param_combine(sid_df,afnrm,aftrm1,zijd_min,minN) \n",
    "            if (analysis == 'best_reg'):\n",
    "                trm1_star_min,trm1_star_max,trm2_star_min,trm2_star_max,allrst =\\\n",
    "                    ts.find_best_API_portion_r(combinedRegs1,minFrac,minR,\\\n",
    "                                               minSlopeT,maxSlopeT)\n",
    "            if (analysis == 'best_krv'):\n",
    "                trm1_star_min,trm1_star_max,trm2_star_min,trm2_star_max,allrst =\\\n",
    "                    ts.find_best_API_portion_k(combinedRegs1,maxBeta,maxFresid,maxKrv)\n",
    "        steprec['trm1_star_min'],steprec['trm1_star_max'] = trm1_star_min, trm1_star_max\n",
    "    if (len(aftrm1)>0) & (len(aftrm2)>0) & (len(afarm1)>0) & (len(afarm2)>0):\n",
    "        if (step_wishes == False) & (analysis == 'ordinary'):\n",
    "            trm2_star_min, trm2_star_max =\\\n",
    "                ts.opt_interval_second_heating(sid_df,aftrm1,\\\n",
    "                                               minN,minFrac,minR,minSlopeT,maxSlopeT)\n",
    "        steprec['trm2_star_min'],steprec['trm2_star_max'] = trm2_star_min, trm2_star_max\n",
    "    \n",
    "    ## Fig4: main plots (NRM-TRM1*, TRM1-TRM2*)\n",
    "    fig4=plt.figure(cnt,figsize=(10,5))\n",
    "    fig4.clf()\n",
    "    ax1, ax2 =fig4.add_subplot(121), fig4.add_subplot(122)\n",
    "    # TRM1 on TRM2*\n",
    "    [x1,x2,x3,x4,x5,x6,x7,x8]=[0,0,0,0,0,0,0,0]\n",
    "    if (len(aftrm1)>0) & (len(aftrm2)>0) & (len(afarm1)>0) & (len(afarm2)>0):\n",
    "        if (analysis == 'ordinary') or (analysis == 'best_reg'):\n",
    "            x1,x2,x3,x4,x5,x6,x7,x8,ss1 =\\\n",
    "                ts.plot_pint_main(sid,ax2,sid_df,aftrm1,'trm2_star','trm1',\\\n",
    "                                  trm2_star_min,trm2_star_max,aftrm1,aftrm2,spec_prv_df,\\\n",
    "                                  'reg',minR,minFrac,minSlopeT,maxSlopeT,maxBeta,maxFresid,\\\n",
    "                                  maxKrv,lab_field)\n",
    "        if (analysis == 'best_krv'):\n",
    "            x1,x2,x3,x4,x5,x6,x7,x8,ss1 =\\\n",
    "                ts.plot_pint_main(sid,ax2,sid_df,aftrm1,'trm2_star','trm1',\\\n",
    "                                  trm2_star_min,trm2_star_max,\\\n",
    "                                  aftrm1,aftrm2,spec_prv_df,'krv',\\\n",
    "                                  minR,minFrac,minSlopeT,maxSlopeT,\\\n",
    "                                  maxBeta,maxFresid,maxKrv,lab_field)\n",
    "    if (abs(x1+x2+x3+x4+x5+x6+x7+x8)>0):\n",
    "        ss='TRM1-TRM2*'\n",
    "        [s1,s2]=['from_'+ss, 'to_'+ss]\n",
    "        spec_prv_df.loc[sid,s1]='%7.1f'%(trm2_star_min)\n",
    "        spec_prv_df.loc[sid,s2]='%7.1f'%(trm2_star_max)\n",
    "        [s1,s2,s3,s4,s5,s6,s7,s8] =\\\n",
    "            ['slope_'+ss, 'r_'+ss, 'N_'+ss, 'frac_'+ss, 'dAIC_'+ss, 'k_'+ss, 'k\\'_'+ss, 'f_resid_'+ss]\n",
    "        spec_prv_df.loc[sid,s1]='%7.3f'%(x1)\n",
    "        spec_prv_df.loc[sid,s2]='%7.3f'%(x2)\n",
    "        spec_prv_df.loc[sid,s3]='%2d'%(x3)\n",
    "        spec_prv_df.loc[sid,s4]='%7.3f'%(x4)\n",
    "        spec_prv_df.loc[sid,s5]='%7.3f'%(x5)\n",
    "        spec_prv_df.loc[sid,s6]='%7.3f'%(x6)\n",
    "        spec_prv_df.loc[sid,s7]='%7.3f'%(x7)\n",
    "        spec_prv_df.loc[sid,s7]='%7.3f'%(x8)\n",
    "        #\n",
    "        sidpars_trm['description']='Values for the TRM1 normalized by TRM2*'\n",
    "        sidpars_trm['meas_step_min']=trm2_star_min*1e-3\n",
    "        sidpars_trm['meas_step_max']=trm2_star_max*1e-3\n",
    "        #\n",
    "        sidpars_trm['int_b']='%7.3f'%(x1)\n",
    "        sidpars_trm['int_abs']=lab_field*x1\n",
    "        sidpars_trm['int_r2_corr']='%7.3f'%(x2**2)\n",
    "        sidpars_trm['int_n_measurements']=x3\n",
    "        sidpars_trm['int_frac']='%7.3f'%(x4)\n",
    "    # NRM on TRM1*\n",
    "    [x1,x2,x3,x4,x5,x6,x7,x8]=[0,0,0,0,0,0,0,0]\n",
    "    if (len(afnrm)>0) & (len(aftrm1)>0) & (len(afarm0)>0) & (len(afarm1)>0):\n",
    "        if (analysis == 'ordinary') or (analysis == 'best_reg'):\n",
    "            x1,x2,x3,x4,x5,x6,x7,x8,ss1 =\\\n",
    "                ts.plot_pint_main(sid,ax1,sid_df,afnrm,'trm1_star','nrm',\\\n",
    "                                  trm1_star_min,trm1_star_max,aftrm1,aftrm2,spec_prv_df,\\\n",
    "                                  'reg',minR,minFrac,minSlopeT,maxSlopeT,maxBeta,maxFresid,\\\n",
    "                                  maxKrv,lab_field)\n",
    "        if (analysis == 'best_krv'):\n",
    "            x1,x2,x3,x4,x5,x6,x7,x8,ss1 =\\\n",
    "                ts.plot_pint_main(sid,ax1,sid_df,afnrm,'trm1_star','nrm',\\\n",
    "                                  trm1_star_min,trm1_star_max,\\\n",
    "                                  aftrm1,aftrm2,spec_prv_df,'krv',\\\n",
    "                                  minR,minFrac,minSlopeT,maxSlopeT,\\\n",
    "                                  maxBeta,maxFresid,maxKrv,lab_field)\n",
    "    if (abs(x1+x2+x3+x4+x5+x6+x7+x8)>0):\n",
    "        ss='NRM-TRM1*'\n",
    "        [s1,s2]=['from_'+ss, 'to_'+ss]\n",
    "        spec_prv_df.loc[sid,s1]='%7.1f'%(trm1_star_min)\n",
    "        spec_prv_df.loc[sid,s2]='%7.1f'%(trm1_star_max)\n",
    "        [s1,s2,s3,s4,s5,s6,s7,s8] =\\\n",
    "            ['slope_'+ss, 'r_'+ss, 'N_'+ss, 'frac_'+ss, 'dAIC_'+ss, 'k_'+ss, 'k\\'_'+ss, 'f_resid_'+ss]\n",
    "        spec_prv_df.loc[sid,s1]='%7.3f'%(x1)\n",
    "        spec_prv_df.loc[sid,s2]='%7.3f'%(x2)\n",
    "        spec_prv_df.loc[sid,s3]='%2d'%(x3)\n",
    "        spec_prv_df.loc[sid,s4]='%7.3f'%(x4)\n",
    "        spec_prv_df.loc[sid,s5]='%7.3f'%(x5)\n",
    "        spec_prv_df.loc[sid,s6]='%7.3f'%(x6)\n",
    "        spec_prv_df.loc[sid,s7]='%7.3f'%(x7)\n",
    "        spec_prv_df.loc[sid,s8]='%7.3f'%(x8)\n",
    "        if (('rejected' in ss1) == False):\n",
    "            spec_prv_df.loc[sid,'pint(uT)']='%7.3f'%(lab_field*x1*1e6)\n",
    "            spec_prv_df.loc[sid,'min_pint(uT)_passed']='%7.3f'%(lab_field*min(allrst.slope_n)*1e6)\n",
    "            spec_prv_df.loc[sid,'max_pint(uT)_passed']='%7.3f'%(lab_field*max(allrst.slope_n)*1e6)\n",
    "        #\n",
    "        sidpars_nrm['description']='Values for the NRM normalized by TRM1*'\n",
    "        sidpars_nrm['meas_step_min']=trm1_star_min*1e-3\n",
    "        sidpars_nrm['meas_step_max']=trm1_star_max*1e-3\n",
    "        #\n",
    "        sidpars_nrm['int_b']='%7.3f'%(x1)\n",
    "        sidpars_nrm['int_abs']=lab_field*x1\n",
    "        sidpars_nrm['int_r2_corr']='%7.3f'%(x2**2)\n",
    "        sidpars_nrm['int_n_measurements']=x3\n",
    "        sidpars_nrm['int_frac']='%7.3f'%(x4)\n",
    "    if(analysis == 'ordinary'):\n",
    "        fig4.savefig(Plot_directory+sid+'_corrected_ordinary.pdf')\n",
    "    if(analysis == 'best_reg'):\n",
    "        fig4.savefig(Plot_directory+sid+'_corrected_best_r.pdf')\n",
    "    if(analysis == 'best_krv'):\n",
    "        fig4.savefig(Plot_directory+sid+'_corrected_best_k.pdf')\n",
    "    cnt=cnt+1\n",
    "\n",
    "    ## Fig5: other basic plots (NRM-TRM1, ARM0-ARM1, TRM1-TRM2, ARM1-ARM2)\n",
    "    fig5=plt.figure(cnt,figsize=(10,10))\n",
    "    fig5.clf()\n",
    "    ax1,ax2,ax3,ax4=\\\n",
    "        fig5.add_subplot(221),fig5.add_subplot(222),fig5.add_subplot(223),fig5.add_subplot(224)\n",
    "    for t in (ntrm_types+arm_types):\n",
    "        [x1,x2,x3,x4,x5]=[0,0,0,0,0]\n",
    "        if (t=='NRM') & (len(aftrm1)>0) & (len(afnrm)>0):\n",
    "            max_xrm=max(sid_df.nrm.max(), sid_df.trm1.max())\n",
    "            x1,x2,x3,x4,x5=ts.plot_xrm_xrm2_r2(sid,ax1,sid_df,afnrm,'trm1','nrm',\\\n",
    "                                            trm1_star_min,trm1_star_max)\n",
    "            ss='NRM-TRM1'\n",
    "            #[s1,s4,s5]=['slope_NRM-TRM1','k_NRM-TRM1','k\\'_NRM-TRM1']\n",
    "        if (t=='TRM1') & (len(aftrm2)>0) & (len(aftrm1)>0):\n",
    "            max_xrm=max(sid_df.trm1.max(), sid_df.trm2.max())\n",
    "            x1,x2,x3,x4,x5=ts.plot_xrm_xrm2_r2(sid,ax3,sid_df,aftrm1,'trm2','trm1',\\\n",
    "                                            trm2_star_min,trm2_star_max)\n",
    "            ss='TRM1-TRM2'\n",
    "            #[s1,s4,s5]=['slope_TRM1-TRM2','k_TRM1-TRM2','k\\'_TRM1-TRM2']\n",
    "        if (t=='ARM0') & (len(afarm1)>0) & (len(afarm0)>0):\n",
    "            max_xrm=max(sid_df.arm0.max(), sid_df.arm1.max())\n",
    "            x1,x2,x3,x4,x5=ts.plot_xrm_xrm2_r2(sid,ax2,sid_df,afnrm,'arm1','arm0',\\\n",
    "                                            trm1_star_min,trm1_star_max)\n",
    "            ss='ARM0-ARM1'\n",
    "            #[s1,s4,s5]=['slope_ARM0-ARM1','k_ARM0-ARM1','k\\'_ARM0-ARM1']\n",
    "            slope_a1=x1\n",
    "            sidpars_nrm['int_corr_arm']='%7.3f'%(slope_a1)\n",
    "        if (t=='ARM1') & (len(afarm2)>0) & (len(afarm1)>0):\n",
    "            max_xrm=max(sid_df.arm1.max(), sid_df.arm2.max())\n",
    "            x1,x2,x3,x4,x5=ts.plot_xrm_xrm2_r2(sid,ax4,sid_df,aftrm1,'arm2','arm1',\\\n",
    "                                            trm2_star_min,trm2_star_max)\n",
    "            ss='ARM1-ARM2'\n",
    "            #[s1,s4,s5]=['slope_ARM1-ARM2','k_ARM1-ARM2','k\\'_ARM1-ARM2']\n",
    "            slope_a2=x1\n",
    "            sidpars_trm['int_corr_arm']='%7.3f'%(slope_a2)\n",
    "        if [(t=='NRM')|(t=='TRM1')|(t=='ARM0')|(t=='ARM1')]:\n",
    "            if (abs(x1+x2+x3+x4+x5)>0):\n",
    "                [s1,s2,s4,s5]=['slope_'+ss, 'r_'+ss, 'k_'+ss,'k\\'_'+ss]\n",
    "                spec_prv_df.loc[sid,s1]=float('{:.4e}'.format(x1))\n",
    "                spec_prv_df.loc[sid,s2]=float('{:.4e}'.format(x2))\n",
    "                spec_prv_df.loc[sid,s4]=float('{:.4e}'.format(x4))\n",
    "                spec_prv_df.loc[sid,s5]=float('{:.4e}'.format(x5))\n",
    "    if(analysis == 'ordinary'):\n",
    "        fig5.savefig(Plot_directory+sid+'_ratios2_ordinary.pdf')\n",
    "    if(analysis == 'best_reg'):\n",
    "        fig5.savefig(Plot_directory+sid+'_ratios2_best_r.pdf')\n",
    "    if(analysis == 'best_krv'):\n",
    "        fig5.savefig(Plot_directory+sid+'_ratios2_best_k.pdf')\n",
    "    cnt=cnt+1\n",
    "    \n",
    "    ## data outtput for MagIC\n",
    "    sidPars.append(sidpars_nrm)\n",
    "    sidPars.append(sidpars_trm)\n",
    "\n",
    "    ## record the step intervals\n",
    "    if (step_wishes == False): stepRecs.append(steprec)\n",
    "\n",
    "## concluding the analysis \n",
    "# data outtput for MagIC\n",
    "if(analysis == 'ordinary'):\n",
    "    pmag.magic_write(MagIC_directory+'specimens_ts_ordinary.txt',sidPars,'specimens')\n",
    "if(analysis == 'best_reg'):\n",
    "    pmag.magic_write(MagIC_directory+'specimens_ts_best_r.txt',sidPars,'specimens')\n",
    "if(analysis == 'best_krv'):\n",
    "    pmag.magic_write(MagIC_directory+'specimens_ts_best_k.txt',sidPars,'specimens')\n",
    "# data outtput for private\n",
    "if(analysis == 'ordinary'):\n",
    "    spec_prv_df.to_csv(csv_directory+'specimen_results_ordinary.csv',index=True)\n",
    "if(analysis == 'best_reg'):\n",
    "    spec_prv_df.to_csv(csv_directory+'specimen_results_best_r.csv',index=True)\n",
    "if(analysis == 'best_krv'):\n",
    "    spec_prv_df.to_csv(csv_directory+'specimen_results_best_k.csv',index=True)\n",
    "# data outtput for step intervals\n",
    "if (step_wishes == False): \n",
    "    pd.DataFrame(stepRecs).to_csv(csv_directory+'steps_optimum.csv',index=None)    "
   ]
  },
  {
   "cell_type": "code",
   "execution_count": null,
   "metadata": {},
   "outputs": [],
   "source": []
  },
  {
   "cell_type": "code",
   "execution_count": null,
   "metadata": {},
   "outputs": [],
   "source": []
  },
  {
   "cell_type": "code",
   "execution_count": null,
   "metadata": {},
   "outputs": [],
   "source": []
  },
  {
   "cell_type": "code",
   "execution_count": null,
   "metadata": {},
   "outputs": [],
   "source": []
  }
 ],
 "metadata": {
  "kernelspec": {
   "display_name": "Python 3 (ipykernel)",
   "language": "python",
   "name": "python3"
  },
  "language_info": {
   "codemirror_mode": {
    "name": "ipython",
    "version": 3
   },
   "file_extension": ".py",
   "mimetype": "text/x-python",
   "name": "python",
   "nbconvert_exporter": "python",
   "pygments_lexer": "ipython3",
   "version": "3.9.7"
  }
 },
 "nbformat": 4,
 "nbformat_minor": 2
}
