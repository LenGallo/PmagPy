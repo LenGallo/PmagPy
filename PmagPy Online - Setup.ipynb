{
 "cells": [
  {
   "cell_type": "markdown",
   "metadata": {},
   "source": [
    "# Welcome to PmagPy on EarthRef.org's JupyterHub\n",
    "\n",
    "### What is **PmagPy**?  \n",
    "\n",
    "**PmagPy** (Tauxe et al., 2016; [doi:10.1002/2016GC006307](https://agupubs.onlinelibrary.wiley.com/doi/full/10.1002/2016GC006307) is a software package including hundreds of programs and functions for analyzing paleomagnetic and rock magnetic data using Python. In addition to providing tools for the working paleomagnetist, **PmagPy** serves  as an interface between paleomagnetic laboratory data and the [MagIC database](https://earthref.org/MagIC). \n",
    "\n",
    "With the Jupyter Hub on earthref.org, access these programs is possible without installation of Python of PmagPy on a user's laptop.  Data may be uploaded from the users computer to the website, analyzed and then downloaded.  Data may also be imported from the Magnetics Information Consortium (MagIC website), analyzed and ultimately uploaded to the MagIC database.  Similarly, images created by PmagPy can be created and saved to the users personal computer.  \n",
    "\n",
    "Some rudimentary knowledge of how to use Jupyter notebooks and minimal knowledge of Python is required.  For the curious, there is a full course in Python available through the Jupyterhub (see Python for Earth Science Students at [jupyterhub.earthref.org](https://jupyterhub.earthref.org)).  For information on the science of paleomagnetism and rock magnetism, see the textbook at: https://earthref.org/MagIC/books/Tauxe/Essentials/.\n",
    "\n",
    "\n",
    "\n",
    "### What is MagIC?\n",
    "\n",
    "The Magnetics Information Consortium ([MagIC](https://earthref.org/MagIC)) is an open community digital data archive for rock and paleomagnetic data with portals that allow users access to archive, search, visualize, download, and combine these versioned datasets. MagIC supports the international rock and paleomagnetic communities and endeavors to bring data out of private archives, making them accessible to all and (re-)useable for new, creative, collaborative scientific and educational activities.\n",
    "\n",
    "### Jupyter notebooks and Jupyter Hub\n",
    "\n",
    "PmagPy online is entirely structured around a special programming environment called [Jupyter notebooks](https://jupyter-notebook-beginner-guide.readthedocs.io/en/latest/what_is_jupyter.html). A Jupyter notebook is a development environment where you can write, debug, and execute your programs.  \n",
    "\n",
    "### Jupyter notebook anatomy\n",
    "\n",
    "Jupyter notebooks have two basic _cells_:\n",
    "\n",
    "- Markdown: for typesetting notes. This cell is an example of a markdown cell.  Here is a \"cheatsheet\" for markdown typesetting: https://medium.com/ibm-data-science-experience/markdown-for-jupyter-notebooks-cheatsheet-386c05aeebed if you are hungry for more. \n",
    "\n",
    "- Code: for writing python code\n",
    "\n",
    "Insert a new cell by selecting 'Insert Cell Below' in the drop-down menu under 'Insert'. Cell types default to 'Code' but the cell type can be changed to 'Markdown' with the box labeled 'Markdown' on the menu bar.  \n",
    "\n",
    "To 'execute' a cell of either flavor,    click  on the Run key  or select Run Cells under the _Cell_ drop-down menu.    \n",
    "\n",
    "### Upload and download from Jupyter Hub\n",
    "\n",
    "To upload data from a computer, click on the 'File' menu, select 'Open' and then the 'Upload' button.  Downloading a particular image or data file is similarly done by selecting 'Open' from the File menu, select the desired file, then click on the 'download' button. \n",
    "\n",
    "\n",
    "### Get started with installing PmagPy on Jupter Hub:\n",
    "- Log on the jupyterhub.earthref.org website (if you have not already done so).  This will require you to register with earthref, which allows you to keep your own private **PmagPy** work space. \n",
    "- Run the code block below (click on the cell and then click **Run** in the menu above) to install the latest version of the **PmagPy** Python package."
   ]
  },
  {
   "cell_type": "code",
   "execution_count": 2,
   "metadata": {},
   "outputs": [
    {
     "name": "stdout",
     "output_type": "stream",
     "text": [
      "Requirement already up-to-date: pmagpy in ./.local/lib/python3.6/site-packages (4.2.44)\r\n"
     ]
    }
   ],
   "source": [
    "!pip install pmagpy --user --upgrade # install or upgrade pmagpy in your user packages"
   ]
  },
  {
   "cell_type": "markdown",
   "metadata": {},
   "source": [
    "### Get the latest PmagPy Jupyter Notebook examples from GitHub:\n",
    "- Run the code block below to retrieve the latest copy of the Jupyter Notebooks and data files from the **PmagPy GitHub Master** branch."
   ]
  },
  {
   "cell_type": "code",
   "execution_count": 3,
   "metadata": {},
   "outputs": [
    {
     "name": "stdout",
     "output_type": "stream",
     "text": [
      "--2020-05-11 18:55:39--  https://github.com/PmagPy/PmagPy/tarball/master\n",
      "Resolving github.com (github.com)... 192.30.255.112\n",
      "Connecting to github.com (github.com)|192.30.255.112|:443... connected.\n",
      "HTTP request sent, awaiting response... 302 Found\n",
      "Location: https://codeload.github.com/PmagPy/PmagPy/legacy.tar.gz/master [following]\n",
      "--2020-05-11 18:55:39--  https://codeload.github.com/PmagPy/PmagPy/legacy.tar.gz/master\n",
      "Resolving codeload.github.com (codeload.github.com)... 192.30.255.120\n",
      "Connecting to codeload.github.com (codeload.github.com)|192.30.255.120|:443... connected.\n",
      "HTTP request sent, awaiting response... 200 OK\n",
      "Length: unspecified [application/x-gzip]\n",
      "Saving to: ‘STDOUT’\n",
      "\n",
      "-                       [  <=>               ]  41.80M  5.68MB/s    in 6.7s    \n",
      "\n",
      "2020-05-11 18:55:46 (6.27 MB/s) - written to stdout [43832481]\n",
      "\n"
     ]
    }
   ],
   "source": [
    "!rm -Rf ~/PmagPy-master-latest # remove any existing downloaded files\n",
    "!mkdir ~/PmagPy-master-latest # make space for downloaded files\n",
    "!wget -O - https://github.com/PmagPy/PmagPy/tarball/master | tar xz -C ~/PmagPy-master-latest # download the latest files\n",
    "!mkdir -p ~/PmagPy-Online # make space for the examples files\n",
    "!chmod u+w -R ~/PmagPy-Online # add write permissions before updating examples files\n",
    "!cp -R ~/PmagPy-master-latest/*/data_files ~/PmagPy-Online # copy the data files to the examples\n",
    "!cp -R ~/PmagPy-master-latest/*/*.ipynb ~/PmagPy-Online # copy the notebook files to the examples\n",
    "!chmod 400 ~/PmagPy-Online/*.ipynb # remove write permissions from downloaded files to protect them from changes\n",
    "!rm -Rf ~/PmagPy-master-latest # clean up the downloaded files"
   ]
  },
  {
   "cell_type": "markdown",
   "metadata": {},
   "source": [
    "### Next steps:\n",
    "\n",
    "- Click on 'Open' under the 'File' menu. You may need to refresh your browser to see the new **PmagPy-Online** directory). Open the  **PmagPy-Online** directory and open the **PmagPy-Online** notebook. \n",
    "\n",
    "\n",
    "- You can return to this notebook and re-run the cells above to **upgrade the packages** or **reset and update the  notebook library and data files** in the future."
   ]
  },
  {
   "cell_type": "code",
   "execution_count": null,
   "metadata": {},
   "outputs": [],
   "source": []
  }
 ],
 "metadata": {
  "kernelspec": {
   "display_name": "Python 3",
   "language": "python",
   "name": "python3"
  },
  "language_info": {
   "codemirror_mode": {
    "name": "ipython",
    "version": 3
   },
   "file_extension": ".py",
   "mimetype": "text/x-python",
   "name": "python",
   "nbconvert_exporter": "python",
   "pygments_lexer": "ipython3",
   "version": "3.6.7"
  }
 },
 "nbformat": 4,
 "nbformat_minor": 2
}
