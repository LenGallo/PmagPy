{
 "cells": [
  {
   "cell_type": "markdown",
   "execution_count": null,
   "metadata": {},
   "outputs": [],
   "source": [
    "## 2020 MagIC Workshop PmagPy notebook demo\n",
    "\n"
   ]
  },
  {
   "cell_type": "markdown",
   "execution_count": null,
   "metadata": {},
   "outputs": [],
   "source": [
    "- Go to the jupyter-hub website to run this online, or put this notebook in some working directory.   \n",
    "\n",
    "- Click on the cell below and then click on 'Run' from the menu above to import the desired functionality"
   ]
  },
  {
   "cell_type": "code",
   "execution_count": null,
   "metadata": {},
   "outputs": [],
   "source": [
    "# Import PmagPy modules\n",
    "import pmagpy.pmag as pmag\n",
    "import pmagpy.pmagplotlib as pmagplotlib\n",
    "import pmagpy.ipmag as ipmag\n",
    "import pmagpy.contribution_builder as cb\n",
    "from pmagpy import convert_2_magic as convert\n",
    "\n",
    "# Import plotting modules\n",
    "has_cartopy, Cartopy = pmag.import_cartopy() # import mapping module, if it is available\n",
    "import matplotlib.pyplot as plt # our plotting buddy\n",
    "# This allows you to make matplotlib plots inside the notebook.  \n",
    "%matplotlib inline \n",
    "\n",
    "# Import more useful modules\n",
    "import numpy as np # the fabulous NumPy package\n",
    "import pandas as pd # and  Pandas for data wrangling\n",
    "import os # some useful operating system functions\n",
    "from importlib import reload # for reloading module if they get changed after initial import\n",
    "import imageio # for making animations\n",
    "import wget\n",
    "\n",
    "# make the example directories if they don't already exist\n",
    "!mkdir -p MagIC_example_1\n",
    "!mkdir -p MagIC_example_2\n",
    "!mkdir -p MagIC_example_3"
   ]
  },
  {
   "cell_type": "markdown",
   "execution_count": null,
   "metadata": {},
   "outputs": [],
   "source": [
    "## Overview of demonstration\n",
    "\n",
    "This notebook has three exercises that demonstrate various aspects of the PmagPy software.  \n",
    "- Exercise 1 looks at a typical \"directional\" data set and shows how to make useful plots like the equal area projection, maps of VGPs and basemaps of site locations.  \n",
    "- Exercise 2 shows how to get geomagnetic vectors from IGRF-like tables and several ways of looking at the data through time and space. \n",
    "- Exercise 3 considers directional (polariy) and anisotropy data as a function of depth in an IODP core.  \n",
    "\n",
    "When you have worked through these examples, check out the other PmagPy notebooks in the software distribution. "
   ]
  },
  {
   "cell_type": "markdown",
   "execution_count": null,
   "metadata": {},
   "outputs": [],
   "source": [
    "## Exercise 1\n",
    "\n",
    "- Hunt around the earthref.org/MagIC/search page for a data set you would like to look at. We will use the data of Behar et al., 2019,  DOI: 10.1029/2019GC008479 for this exercise. \n",
    "- Download the associated datafile, magic_contribution_16676.txt,  using _wget()_ and move it to the working directory, MagIC_example_1\n",
    "- unpack it with _ipmag.download_magic()_\n",
    "- Use PmagPy functions to make the following plots:\n",
    "    - use _ipmag.eqarea_magic()_ to make an equal area plot\n",
    "    - use _ipmag.vgpmap_magic()_ to make a map of VGPs\n",
    "    - use _ipmag.reversal_test_bootstrap()_ for a bootstrap reversals test\n",
    "    - use _pmagplotlib.plot_map()_ to make a site map"
   ]
  },
  {
   "cell_type": "code",
   "execution_count": null,
   "metadata": {},
   "outputs": [],
   "source": [
    "dir_path='MagIC_example_1' # set the path to the correct working directory\n",
    "# First get the file from MagIC\n",
    "wget.download('https://earthref.org/MagIC/download/16676/magic_contribution_16676.txt')\n",
    "# and move it into the working directory:\n",
    "try:\n",
    "    !mv magic_contribution_16676.txt MagIC_example_1\n",
    "except:\n",
    "    print ('Please create a directory on your PC and move this data file into it.\\n  Then change dir_path to match')"
   ]
  },
  {
   "cell_type": "markdown",
   "execution_count": null,
   "metadata": {},
   "outputs": [],
   "source": [
    "To understand what a particular PmagPy function expects as input and delivers, use the Python _help_ function"
   ]
  },
  {
   "cell_type": "code",
   "execution_count": null,
   "metadata": {},
   "outputs": [],
   "source": [
    "help(ipmag.download_magic)"
   ]
  },
  {
   "cell_type": "code",
   "execution_count": null,
   "metadata": {},
   "outputs": [],
   "source": [
    "# unpack the downloaded file with the ipmag function download_magic()\n",
    "ipmag.download_magic('magic_contribution_16676.txt',dir_path=dir_path,print_progress=False)"
   ]
  },
  {
   "cell_type": "markdown",
   "execution_count": null,
   "metadata": {},
   "outputs": [],
   "source": [
    "### Equal area net example\n",
    "- use ipmag.eqarea_magic()"
   ]
  },
  {
   "cell_type": "code",
   "execution_count": null,
   "metadata": {},
   "outputs": [],
   "source": [
    "# first get help on how to use it:\n",
    "help(ipmag.eqarea_magic)"
   ]
  },
  {
   "cell_type": "code",
   "execution_count": null,
   "metadata": {},
   "outputs": [],
   "source": [
    "# now we do it for real:\n",
    "ipmag.eqarea_magic(dir_path=dir_path,save_plots=False)"
   ]
  },
  {
   "cell_type": "markdown",
   "execution_count": null,
   "metadata": {},
   "outputs": [],
   "source": [
    "### Map of VGPs\n",
    "- use ipmag.vgpmap_magic() to plot the VGPs from the same data"
   ]
  },
  {
   "cell_type": "code",
   "execution_count": null,
   "metadata": {},
   "outputs": [],
   "source": [
    "# get help message for vgpmap_magic\n",
    "help(ipmag.vgpmap_magic)"
   ]
  },
  {
   "cell_type": "code",
   "execution_count": null,
   "metadata": {},
   "outputs": [],
   "source": [
    "dir_path='MagIC_example_1' # set the path to your working directory\n",
    "ipmag.vgpmap_magic(dir_path=dir_path,size=50,flip=True,save_plots=False,lat_0=60,rsym='b^',rsize=50)"
   ]
  },
  {
   "cell_type": "markdown",
   "execution_count": null,
   "metadata": {},
   "outputs": [],
   "source": [
    "### Bootstrap reversals test\n",
    "- use ipmag.reversal_test_bootstrap() to do the reversals test"
   ]
  },
  {
   "cell_type": "code",
   "execution_count": null,
   "metadata": {},
   "outputs": [],
   "source": [
    "help(ipmag.reversal_test_bootstrap)"
   ]
  },
  {
   "cell_type": "code",
   "execution_count": null,
   "metadata": {},
   "outputs": [],
   "source": [
    "# read in the data into a Pandas DataFrame\n",
    "dir_path='MagIC_example_1' # set the path to your working directory\n",
    "sites_df=pd.read_csv(dir_path+'/sites.txt',sep='\\t',header=1)\n",
    "# pick out the declinations and inclinations\n",
    "decs=sites_df.dir_dec.values\n",
    "incs=sites_df.dir_inc.values\n",
    "# call the function\n",
    "ipmag.reversal_test_bootstrap(dec=decs,inc=incs,plot_stereo=False)"
   ]
  },
  {
   "cell_type": "markdown",
   "execution_count": null,
   "metadata": {},
   "outputs": [],
   "source": [
    "### Make a site map\n",
    "- use pmagplotlib.plot_map() to make a site map"
   ]
  },
  {
   "cell_type": "code",
   "execution_count": null,
   "metadata": {},
   "outputs": [],
   "source": [
    "help(pmagplotlib.plot_map)"
   ]
  },
  {
   "cell_type": "markdown",
   "execution_count": null,
   "metadata": {},
   "outputs": [],
   "source": [
    "NB: the most recent PmagPy version fixes the scale issue - but it is SLOW at high resolution... so set Opts\\['res'\\] to 'c' for crude for a quick look.  if you want to be dazzled - set it to 'h' but be prepared to wait for a while...  'i' for intermediate is probably good enough for most purposes (50m resolution)"
   ]
  },
  {
   "cell_type": "code",
   "execution_count": null,
   "metadata": {},
   "outputs": [],
   "source": [
    "dir_path='MagIC_example_1' # set the path to your working directory\n",
    "# read in the data file:\n",
    "site_df=pd.read_csv(dir_path+'/sites.txt',sep='\\t',header=1)\n",
    "# pick out the longitudes and latitudes\n",
    "lons=site_df['lon'].values\n",
    "lats=site_df['lat'].values\n",
    "# set some options\n",
    "Opts={}\n",
    "Opts['sym']='r*' # sets the symbol to white dots\n",
    "Opts['symsize']=100 # sets symbol size to 3 pts\n",
    "Opts['proj']='lcc' # Lambert Conformal projection\n",
    "Opts['pltgrid']=True\n",
    "Opts['lat_0']=33\n",
    "Opts['lon_0']=35\n",
    "Opts['latmin']=29\n",
    "Opts['latmax']=35\n",
    "Opts['lonmin']=32\n",
    "Opts['lonmax']=37\n",
    "Opts['gridspace']=1\n",
    "Opts['details']={}\n",
    "Opts['details']['coasts']=True\n",
    "Opts['details']['ocean']=True\n",
    "Opts['details']['countries']=True\n",
    "Opts['global']=False\n",
    "Opts['res']='i'\n",
    "plt.figure(1,(10,10)) # optional - make a map\n",
    "\n",
    "pmagplotlib.plot_map(1, lats, lons, Opts)\n"
   ]
  },
  {
   "cell_type": "markdown",
   "execution_count": null,
   "metadata": {},
   "outputs": [],
   "source": [
    "## Exercise 2: \n",
    "- use _pmag.pinc()_ to calculate the GAD inclination for a  particular latitude (e.g., 33)\n",
    "- use _ipmag.igrf()_ and _ipmag.igrf_print()_ to get values of the field for a specific place (e.g., San Diego at lon=-117,lat=33,alt=0) and date (2019)\n",
    "- make a plot of declination, inclination, B for a specific place and range of dates\n",
    "- use _pmag.do_mag_map()_ and _pmagplotlib.plot_mag_map()_ to make a map of the field at a specific date (2019)\n",
    "- make a movie of the field for the last 1000 years using the cals10k.2 model of Constable et al. (2016)"
   ]
  },
  {
   "cell_type": "code",
   "execution_count": null,
   "metadata": {},
   "outputs": [],
   "source": [
    "help(pmag.pinc)"
   ]
  },
  {
   "cell_type": "code",
   "execution_count": null,
   "metadata": {},
   "outputs": [],
   "source": [
    "gad_inc=pmag.pinc(33)\n",
    "print(gad_inc)"
   ]
  },
  {
   "cell_type": "code",
   "execution_count": null,
   "metadata": {},
   "outputs": [],
   "source": [
    "help(ipmag.igrf)"
   ]
  },
  {
   "cell_type": "code",
   "execution_count": null,
   "metadata": {},
   "outputs": [],
   "source": [
    "date,lat,lon,alt=2019.9,33,-117,0\n",
    "local=ipmag.igrf([date, alt, lat, lon])\n",
    "ipmag.igrf_print(local)"
   ]
  },
  {
   "cell_type": "code",
   "execution_count": null,
   "metadata": {},
   "outputs": [],
   "source": [
    "mod='cals10k.2'\n",
    "dates=range(-8000,2050,50)\n",
    "local_vectors=[]\n",
    "for d in dates:\n",
    "    local=ipmag.igrf([d, alt, lat, lon],mod=mod)\n",
    "    local_vectors.append([d,local[0],local[1],local[2]])\n",
    "df=pd.DataFrame(local_vectors,columns=['Date','Dec','Inc','B_nT'])\n",
    "df['B_uT']=df['B_nT']*1e-3\n",
    "df.loc[df['Dec']>180,'Dec']=df['Dec']-360. \n",
    "fig=plt.figure(1,(8,8))\n",
    "ax1=fig.add_subplot(311)\n",
    "ax2=fig.add_subplot(312)\n",
    "ax3=fig.add_subplot(313)\n",
    "ax1.plot(df['Date'],df['Dec'])\n",
    "ax1.axhline(0,color='black',linestyle='dotted')\n",
    "ax2.plot(df['Date'],df['Inc'])\n",
    "ax2.axhline(gad_inc,color='black',linestyle='dotted')\n",
    "ax3.plot(df['Date'],df['B_uT'])"
   ]
  },
  {
   "cell_type": "code",
   "execution_count": null,
   "metadata": {},
   "outputs": [],
   "source": [
    "help(pmag.do_mag_map)"
   ]
  },
  {
   "cell_type": "code",
   "execution_count": null,
   "metadata": {},
   "outputs": [],
   "source": [
    "help(pmagplotlib.plot_mag_map)"
   ]
  },
  {
   "cell_type": "code",
   "execution_count": null,
   "metadata": {},
   "outputs": [],
   "source": [
    "# define some useful parameters\n",
    "date,mod,lon_0,alt,ghfile=2019,'cals10k.2',0,0,\"\" # only date is required\n",
    "Ds,Is,Bs,Brs,lons,lats=pmag.do_mag_map(date,mod=mod,lon_0=lon_0,alt=alt,file=ghfile)"
   ]
  },
  {
   "cell_type": "code",
   "execution_count": null,
   "metadata": {},
   "outputs": [],
   "source": [
    "help(pmagplotlib.plot_mag_map)"
   ]
  },
  {
   "cell_type": "code",
   "execution_count": null,
   "metadata": {},
   "outputs": [],
   "source": [
    "cmap='jet' # nice color map for contourf\n",
    "pmagplotlib.plot_mag_map(1,Bs,lons,lats,'B',cmap=cmap,date=date,proj='Mollweide',contours=False) # plot the field strength\n",
    "pmagplotlib.plot_mag_map(2,Is,lons,lats,'I',cmap=cmap,date=date,proj='Mollweide',contours=True)# plot the inclination\n",
    "pmagplotlib.plot_mag_map(3,Ds,lons,lats,'D',cmap=cmap,date=date,contours=True);# plot the declination    \n"
   ]
  },
  {
   "cell_type": "code",
   "execution_count": null,
   "metadata": {},
   "outputs": [],
   "source": [
    "dir_path='MagIC_example_2'\n",
    "!rm -f MagIC_example_2/*.png # remove any old plots\n",
    "mod,lon_0,alt,ghfile='cals10k.2',0,0,\"\" #\n",
    "cmap,title='jet','Intensity' # nice color map for contourf\n",
    "fignum=1\n",
    "dates=range(-1000,2100,100) # make maps for these years.  \n",
    "lon_0=0 # center the maps at the Greenwich meridian\n",
    "element='B' # let's do field strength\n",
    "for date in dates:  # step through the loop\n",
    "    print ('working on: ',date)\n",
    "    Ds,Is,Bs,Brs,lons,lats=pmag.do_mag_map(date,mod=mod,lon_0=lon_0,alt=alt,file=ghfile)\n",
    "    pmagplotlib.plot_mag_map(fignum,Bs,lons,lats,'B',cmap=cmap,date=date,proj='Mollweide',\n",
    "                             min=15,max=100,contours=False) # plot the field strength\n",
    "    plt.savefig(dir_path+'/' +title.strip()+'_'+str(date)+'.png') # saves the  figure. to a folder\n",
    "    fignum+=1"
   ]
  },
  {
   "cell_type": "code",
   "execution_count": null,
   "metadata": {},
   "outputs": [],
   "source": [
    "from IPython.display import Image\n",
    "Image(filename=\"MagIC_example_2/Bmovie.gif\")"
   ]
  },
  {
   "cell_type": "code",
   "execution_count": null,
   "metadata": {},
   "outputs": [],
   "source": [
    "filenames=os.listdir('MagIC_example_2/') # listing of the directory\n",
    "images = [] # make a container to put the image files in\n",
    "for file in filenames: # step through all the maps\n",
    "    if '.png' in file: # skip some of the nasty hidden files\n",
    "        filename='MagIC_example_2/'+file # make filename from the folder name and the file name\n",
    "        images.append(imageio.imread(filename)) # read it in and stuff in the container\n",
    "imageio.mimsave('MagIC_example_2/Bmovie.gif', images) # save to an animated gif.  "
   ]
  },
  {
   "cell_type": "markdown",
   "execution_count": null,
   "metadata": {},
   "outputs": [],
   "source": [
    "Now open MagIC_example_2/Bmovie.gif in your browser. "
   ]
  },
  {
   "cell_type": "markdown",
   "execution_count": null,
   "metadata": {},
   "outputs": [],
   "source": [
    "## Exercise 3\n",
    "- download the data from Tauxe et al. (2015; DOI: 0.1016/J.EPSL.2014.12.034) using the wget.download command as in Exercise 1.\n",
    "- Move the downloaded data file to a directory called 'MagIC\\_example\\_3'\n",
    "\n",
    "- Unpack it with ipmag.download_magic()\n",
    "- make a figure with these elements for the interval 40 m to 160 m:\n",
    "    - magstrat time scale plot from 2 to 7 Ma\n",
    "    - inclinations (dir\\_inc) from the 20mT step in the measurements table  against composite_depth as blue dots\n",
    "    - inclinations (dir\\_inc) from the specimens table against composite depth as red triangles. \n",
    "    - put on dotted lines for the GAD inclination\n",
    "- use ipmag.ani_depthplot to plot the anisotropy data against depth in the Hole.  "
   ]
  },
  {
   "cell_type": "markdown",
   "execution_count": null,
   "metadata": {},
   "outputs": [],
   "source": [
    "### Download and unpack the data\n",
    "\n",
    "- set the first if statement to True to download, move and unpack the data set from MagIC"
   ]
  },
  {
   "cell_type": "code",
   "execution_count": null,
   "metadata": {},
   "outputs": [],
   "source": [
    "dir_path='MagIC_example_3' # set the path to your working directory\n",
    "depth_min, depth_max= 40, 160 # set the core depth bounds as required\n",
    "# First get the file from MagIC into your working directory:\n",
    "if False:\n",
    "    wget.download('https://earthref.org/MagIC/download/16749/magic_contribution_16749.txt')\n",
    "    # move to the working directory\n",
    "    !mv magic_contribution_16749.txt MagIC_example_3\n",
    "    # unpack it:\n",
    "    ipmag.download_magic(infile='magic_contribution_16749.txt',dir_path=dir_path)\n",
    "# if you downloaded the excel file instead, then do this:\n",
    "if False:\n",
    "    dir_path='MagIC_example_3'\n",
    "    ipmag.download_magic(dir_path=dir_path,infile='REPLACE_WITH_NAME_OF_FILE.xlsx',excel=True)"
   ]
  },
  {
   "cell_type": "markdown",
   "execution_count": null,
   "metadata": {},
   "outputs": [],
   "source": [
    "## Magstrat figure\n",
    "- read in the data file as a Pandas DataFrame with pd.read_csv().  \n",
    "    - All MagIC .txt files are tab delimited.  This is indicated with a sep='\\t' keywork.  \n",
    "    - The column headers in the second row, hence (because Python counts from zero), header=1\n",
    "- the depth of a particular specimen/site in MagIC is stored in the sites.txt table.  You will have to merge the data from that table into the specimens/measurements tables.  To do that you need to do a few things:\n",
    "    - you need a common key.  Because the specimen/sample/site names are the same for an IODP record, make a column in the specimen/measurements dataframes labled 'site' that is the same as the specimen.  \n",
    "    - merge the two dataframes (sites and specimens/measurements) with pd.merge()"
   ]
  },
  {
   "cell_type": "code",
   "execution_count": null,
   "metadata": {},
   "outputs": [],
   "source": [
    "# read in the required data tables:\n",
    "meas_df=pd.read_csv(dir_path+'/measurements.txt',sep='\\t',header=1)\n",
    "site_df=pd.read_csv(dir_path+'/sites.txt',sep='\\t',header=1)\n",
    "spec_df=pd.read_csv(dir_path+'/specimens.txt',sep='\\t',header=1)\n",
    "ages_df=pd.read_csv(dir_path+'/ages.txt',sep='\\t',header=1)\n",
    "# filter the ages table for method codes that indicate paleomagnetic reversals:\n",
    "ages_df=ages_df[ages_df['method_codes'].str.contains('PMAG')]\n",
    "# filter the measurements for the 20 mT (.02 T) step\n",
    "meas_df.dropna(subset=['treat_ac_field'],inplace=True)\n",
    "meas_20mT=meas_df[meas_df['treat_ac_field']==0.02] \n",
    "# make the site key in the measurements and specimens dataframes\n",
    "meas_20mT['site']=meas_20mT['specimen']\n",
    "spec_df['site']=spec_df['specimen']\n",
    "# we only want the core depth out of the sites dataframe, so we can pare it down like this:\n",
    "depth_df=site_df[['site','core_depth']]\n",
    "# merge the specimen, depth dataframes\n",
    "spec_df=pd.merge(spec_df,depth_df,on='site')\n",
    "# merge the measurements, depth dataframes\n",
    "meas_20mT=pd.merge(meas_20mT,depth_df,on='site')\n",
    "# filter for the desired depth range: \n",
    "spec_df=spec_df[(spec_df['core_depth']>depth_min)&(spec_df['core_depth']<depth_max)]\n",
    "meas_20mT=meas_20mT[(meas_20mT['core_depth']>depth_min)&(meas_20mT['core_depth']<depth_max)]\n",
    "# note that the age table has only height (not depth), so these numbers are the opposite\n",
    "ages_df=ages_df[(ages_df['tiepoint_height']<-depth_min)&(ages_df['tiepoint_height']>-depth_max)]\n",
    "# get the site latitude (there is only one)\n",
    "lat=site_df['lat'].unique()[0]\n",
    "\n"
   ]
  },
  {
   "cell_type": "code",
   "execution_count": null,
   "metadata": {},
   "outputs": [],
   "source": [
    "fig=plt.figure(1,(9,12)) # make the figure\n",
    "ax1=fig.add_subplot(131) # make the first of three subplots\n",
    "pmagplotlib.plot_ts(ax1,2,7,timescale='gts12') # plot on the time scale\n",
    "ax2=fig.add_subplot(132) # make the second of three subplots\n",
    "plt.plot(meas_20mT.dir_inc,meas_20mT.core_depth,'bo',markeredgecolor='black',alpha=.5)\n",
    "plt.plot(spec_df.dir_inc,spec_df.core_depth,'r^',markeredgecolor='black')\n",
    "\n",
    "plt.ylim(depth_max,depth_min)\n",
    "# calculate the geocentric axial dipole field for the site latitude\n",
    "gad=pmag.pinc(lat) # tan (I) = 2 tan (lat)\n",
    "# put it on the plot as a green dashed line\n",
    "plt.axvline(gad,color='green',linestyle='dashed',linewidth=2)\n",
    "plt.axvline(-gad,color='green',linestyle='dashed',linewidth=2)\n",
    "plt.title('Inclinations')\n",
    "pmagplotlib.label_tiepoints(ax2,100,ages_df.tiepoint.values,-1*ages_df.tiepoint_height.values,lines=True)\n",
    "#"
   ]
  },
  {
   "cell_type": "markdown",
   "execution_count": null,
   "metadata": {},
   "outputs": [],
   "source": [
    "### \"Christmas tree\" of anisotropy\n",
    "- use ipmag.ani\\_depthplot()"
   ]
  },
  {
   "cell_type": "code",
   "execution_count": null,
   "metadata": {},
   "outputs": [],
   "source": [
    "help(ipmag.ani_depthplot)"
   ]
  },
  {
   "cell_type": "code",
   "execution_count": null,
   "metadata": {},
   "outputs": [],
   "source": [
    "ipmag.ani_depthplot(dir_path=dir_path)"
   ]
  },
  {
   "cell_type": "code",
   "execution_count": null,
   "metadata": {},
   "outputs": [],
   "source": []
  }
 ],
 "metadata": {
  "kernelspec": {
   "display_name": "Python 3",
   "language": "python",
   "name": "python3"
  },
  "language_info": {
   "codemirror_mode": {
    "name": "ipython",
    "version": 3
   },
   "file_extension": ".py",
   "mimetype": "text/x-python",
   "name": "python",
   "nbconvert_exporter": "python",
   "pygments_lexer": "ipython3",
   "version": "3.6.6"
  }
 },
 "nbformat": 4,
 "nbformat_minor": 2
}